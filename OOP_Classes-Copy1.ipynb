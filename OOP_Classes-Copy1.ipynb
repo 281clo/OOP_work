{
 "cells": [
  {
   "cell_type": "markdown",
   "metadata": {},
   "source": [
    "# Instance Attributes"
   ]
  },
  {
   "cell_type": "code",
   "execution_count": 1,
   "metadata": {},
   "outputs": [
    {
     "name": "stdout",
     "output_type": "stream",
     "text": [
      "I am created\n",
      "500\n",
      "I am created\n",
      "3000\n"
     ]
    }
   ],
   "source": [
    "class Item:\n",
    "    #init will run automaticlly\n",
    "    def __init__(self):\n",
    "        print('I am created')\n",
    "    #Methods are def inside fuctions\n",
    "    #defining methods\n",
    "    def calculate_total_price(self, x, y):\n",
    "        return x * y\n",
    "\n",
    "#Create instance\n",
    "item1 = Item()\n",
    "#Assign attributes\n",
    "item1.name = \"Phone\"\n",
    "item1.price = 100\n",
    "item1.quantity = 5\n",
    "#applying methods to instance attribute\n",
    "print(item1.calculate_total_price(item1.price, item1.quantity))\n",
    "\n",
    "\n",
    "item2 = Item()\n",
    "#Assign attributes\n",
    "item2.name = \"Laptop\"\n",
    "item2.price = 1000\n",
    "item2.quantity = 3\n",
    "print(item2.calculate_total_price(item2.price, item2.quantity))\n"
   ]
  },
  {
   "cell_type": "code",
   "execution_count": 2,
   "metadata": {},
   "outputs": [
    {
     "name": "stdout",
     "output_type": "stream",
     "text": [
      "Phone\n",
      "Laptop\n",
      "100\n",
      "1000\n",
      "5\n",
      "3\n",
      "False\n"
     ]
    }
   ],
   "source": [
    "class Item:\n",
    "    #create instance attributes for all items in class.\n",
    "    def __init__(self, name, price, quantity):\n",
    "        self.name = name\n",
    "        self.price = price\n",
    "        self.quantity = quantity\n",
    "\n",
    "#Create instance & assign attributes\n",
    "item1 = Item(\"Phone\", 100, 5)\n",
    "item2 = Item(\"Laptop\", 1000, 3)\n",
    "\n",
    "#Also add extra attributes to instances individually\n",
    "item2.has_numpad = False\n",
    "\n",
    "print(item1.name)\n",
    "print(item2.name)\n",
    "print(item1.price)\n",
    "print(item2.price)\n",
    "print(item1.quantity)\n",
    "print(item2.quantity)\n",
    "print(item2.has_numpad)"
   ]
  },
  {
   "cell_type": "code",
   "execution_count": 3,
   "metadata": {},
   "outputs": [
    {
     "name": "stdout",
     "output_type": "stream",
     "text": [
      "0\n",
      "3\n"
     ]
    }
   ],
   "source": [
    "class Item:\n",
    "    #Assign default attributes to go by if not deffined in a instance\n",
    "    def __init__(self, name, price, quantity=0):\n",
    "        self.name = name\n",
    "        self.price = price\n",
    "        self.quantity = quantity\n",
    "\n",
    "\n",
    "\n",
    "item1 = Item(\"Phone\", 100)\n",
    "''' Missing attribute, goes by default'''\n",
    "\n",
    "\n",
    "item2 = Item(\"Laptop\", 1000, 3)\n",
    "\n",
    "\n",
    "print(item1.quantity)\n",
    "print(item2.quantity)\n"
   ]
  },
  {
   "cell_type": "code",
   "execution_count": 4,
   "metadata": {},
   "outputs": [
    {
     "name": "stdout",
     "output_type": "stream",
     "text": [
      "500\n",
      "3000\n",
      "500\n",
      "3000\n"
     ]
    }
   ],
   "source": [
    "class Item:\n",
    "    def __init__(self, name, price, quantity=0):\n",
    "        self.name = name\n",
    "        self.price = price\n",
    "        self.quantity = quantity\n",
    "    \n",
    "    # Use opperators with variables\n",
    "    def calculate_total_price(self, x, y):\n",
    "        return x * y\n",
    "        \n",
    "    # Or opperate by attribues  \n",
    "    def calculate_total_price2(self):\n",
    "        return self.price * self.quantity\n",
    "\n",
    "item1 = Item(\"Phone\", 100, 5)\n",
    "item2 = Item(\"Laptop\", 1000, 3)\n",
    "\n",
    "\n",
    "print(item1.calculate_total_price(item1.price, item1.quantity))\n",
    "print(item2.calculate_total_price(item2.price, item2.quantity))\n",
    "print(item1.calculate_total_price2())\n",
    "print(item2.calculate_total_price2())"
   ]
  },
  {
   "cell_type": "code",
   "execution_count": 1,
   "metadata": {},
   "outputs": [
    {
     "ename": "AssertionError",
     "evalue": "Quantity -3 is not greater than zero!",
     "output_type": "error",
     "traceback": [
      "\u001b[1;31m---------------------------------------------------------------------------\u001b[0m",
      "\u001b[1;31mAssertionError\u001b[0m                            Traceback (most recent call last)",
      "\u001b[1;32m~\\AppData\\Local\\Temp/ipykernel_12744/176952027.py\u001b[0m in \u001b[0;36m<module>\u001b[1;34m\u001b[0m\n\u001b[0;32m     14\u001b[0m \u001b[1;33m\u001b[0m\u001b[0m\n\u001b[0;32m     15\u001b[0m \u001b[0mitem1\u001b[0m \u001b[1;33m=\u001b[0m \u001b[0mItem\u001b[0m\u001b[1;33m(\u001b[0m\u001b[1;34m\"Phone\"\u001b[0m\u001b[1;33m,\u001b[0m \u001b[1;36m100\u001b[0m\u001b[1;33m,\u001b[0m \u001b[1;36m5\u001b[0m\u001b[1;33m)\u001b[0m\u001b[1;33m\u001b[0m\u001b[1;33m\u001b[0m\u001b[0m\n\u001b[1;32m---> 16\u001b[1;33m \u001b[0mitem2\u001b[0m \u001b[1;33m=\u001b[0m \u001b[0mItem\u001b[0m\u001b[1;33m(\u001b[0m\u001b[1;34m\"Laptop\"\u001b[0m\u001b[1;33m,\u001b[0m \u001b[1;36m1000\u001b[0m\u001b[1;33m,\u001b[0m \u001b[1;33m-\u001b[0m\u001b[1;36m3\u001b[0m\u001b[1;33m)\u001b[0m\u001b[1;33m\u001b[0m\u001b[1;33m\u001b[0m\u001b[0m\n\u001b[0m",
      "\u001b[1;32m~\\AppData\\Local\\Temp/ipykernel_12744/176952027.py\u001b[0m in \u001b[0;36m__init__\u001b[1;34m(self, name, price, quantity)\u001b[0m\n\u001b[0;32m      5\u001b[0m         \u001b[1;31m# Run validations to the recieved arguments\u001b[0m\u001b[1;33m\u001b[0m\u001b[1;33m\u001b[0m\u001b[0m\n\u001b[0;32m      6\u001b[0m         \u001b[1;32massert\u001b[0m \u001b[0mprice\u001b[0m \u001b[1;33m>=\u001b[0m \u001b[1;36m0\u001b[0m\u001b[1;33m,\u001b[0m \u001b[1;34mf\"Price {price} is not greater than zero!\"\u001b[0m\u001b[1;33m\u001b[0m\u001b[1;33m\u001b[0m\u001b[0m\n\u001b[1;32m----> 7\u001b[1;33m         \u001b[1;32massert\u001b[0m \u001b[0mquantity\u001b[0m \u001b[1;33m>=\u001b[0m \u001b[1;36m0\u001b[0m\u001b[1;33m,\u001b[0m \u001b[1;34mf\"Quantity {quantity} is not greater than zero!\"\u001b[0m\u001b[1;33m\u001b[0m\u001b[1;33m\u001b[0m\u001b[0m\n\u001b[0m\u001b[0;32m      8\u001b[0m         \u001b[1;31m# Forcing all int to be not negative or will recieve an error.\u001b[0m\u001b[1;33m\u001b[0m\u001b[1;33m\u001b[0m\u001b[0m\n\u001b[0;32m      9\u001b[0m \u001b[1;33m\u001b[0m\u001b[0m\n",
      "\u001b[1;31mAssertionError\u001b[0m: Quantity -3 is not greater than zero!"
     ]
    }
   ],
   "source": [
    "class Item:\n",
    "    #Specifying data types, str, float, asserting \n",
    "    def __init__(self, name: str, price: float, quantity=0):\n",
    "        \n",
    "        # Run validations to the recieved arguments\n",
    "        assert price >= 0, f\"Price {price} is not greater than zero!\"\n",
    "        assert quantity >= 0, f\"Quantity {quantity} is not greater than zero!\"\n",
    "        # Forcing all int to be not negative or will recieve an error.\n",
    "\n",
    "        self.name = name\n",
    "        self.price = price\n",
    "        self.quantity = quantity\n",
    "\n",
    "\n",
    "item1 = Item(\"Phone\", 100, 5)\n",
    "item2 = Item(\"Laptop\", 1000, -3)\n"
   ]
  },
  {
   "cell_type": "markdown",
   "metadata": {},
   "source": [
    "# Class Attributes"
   ]
  },
  {
   "cell_type": "code",
   "execution_count": 6,
   "metadata": {},
   "outputs": [
    {
     "name": "stdout",
     "output_type": "stream",
     "text": [
      "0.8\n",
      "0.8\n",
      "0.8\n",
      "{'__module__': '__main__', 'pay_rate': 0.8, '__init__': <function Item.__init__ at 0x000001CF35501B80>, 'calculate_total_price2': <function Item.calculate_total_price2 at 0x000001CF35501C10>, '__dict__': <attribute '__dict__' of 'Item' objects>, '__weakref__': <attribute '__weakref__' of 'Item' objects>, '__doc__': None}\n",
      "{'name': 'Phone', 'price': 100, 'quantity': 5}\n"
     ]
    }
   ],
   "source": [
    "class Item:\n",
    "    # Class attribute\n",
    "    pay_rate = 0.8 # The pay rate after 20% discount\n",
    "    \n",
    "    def __init__(self, name: str, price: float, quantity=0):\n",
    "        assert price >= 0, f\"Price {price} is not greater than zero!\"\n",
    "        assert quantity >= 0, f\"Quantity {quantity} is not greater than zero!\"\n",
    "\n",
    "        self.name = name\n",
    "        self.price = price\n",
    "        self.quantity = quantity\n",
    "\n",
    "    def calculate_total_price2(self):\n",
    "        return self.price * self.quantity\n",
    "\n",
    "\n",
    "item1 = Item(\"Phone\", 100, 5)\n",
    "item2 = Item(\"Laptop\", 1000, 3)\n",
    "\n",
    "print(Item.pay_rate)\n",
    "print(item1.pay_rate)\n",
    "print(item2.pay_rate)\n",
    "print(Item.__dict__) # Print all the attributes for Class level\n",
    "print(item1.__dict__) # Print all the attributes for Instance level"
   ]
  },
  {
   "cell_type": "code",
   "execution_count": 19,
   "metadata": {},
   "outputs": [
    {
     "name": "stdout",
     "output_type": "stream",
     "text": [
      "80.0\n",
      "700.0\n"
     ]
    }
   ],
   "source": [
    "class Item:\n",
    "   \n",
    "    pay_rate = 0.8 \n",
    "    \n",
    "    def __init__(self, name: str, price: float, quantity=0):\n",
    "        assert price >= 0, f\"Price {price} is not greater than zero!\"\n",
    "        assert quantity >= 0, f\"Quantity {quantity} is not greater than zero!\"\n",
    "\n",
    "        self.name = name\n",
    "        self.price = price\n",
    "        self.quantity = quantity\n",
    "\n",
    "    def calculate_total_price2(self):\n",
    "        return self.price * self.quantity\n",
    "\n",
    "    # Will override price instance for any object you apply it to\n",
    "    def apply_discount(self):\n",
    "        self.price = self.price * self.pay_rate\n",
    "\n",
    "\n",
    "item1 = Item(\"Phone\", 100, 5)\n",
    "item1.apply_discount()\n",
    "\n",
    "item2 = Item(\"Laptop\", 1000, 3)\n",
    "\n",
    "# Will override class instance(pay_rate) for personal object instance. \n",
    "item2.pay_rate = 0.7\n",
    "item2.apply_discount()\n",
    "\n",
    "print(item1.price)\n",
    "print(item2.price)"
   ]
  },
  {
   "cell_type": "code",
   "execution_count": 3,
   "metadata": {},
   "outputs": [
    {
     "name": "stdout",
     "output_type": "stream",
     "text": [
      "Phone\n",
      "Laptop\n",
      "Cable\n",
      "Mouse\n",
      "Keyboard\n",
      "[Item('Phone', 100, 1), Item('Laptop', 1000, 3), Item('Cable', 10, 5), Item('Mouse', 50, 5), Item('Keyboard', 75, 5)]\n"
     ]
    }
   ],
   "source": [
    "class Item:\n",
    "   \n",
    "    pay_rate = 0.8 \n",
    "    # A list to append to\n",
    "    all = []\n",
    "\n",
    "    def __init__(self, name: str, price: float, quantity=0):\n",
    "        assert price >= 0, f\"Price {price} is not greater than zero!\"\n",
    "        assert quantity >= 0, f\"Quantity {quantity} is not greater than zero!\"\n",
    "\n",
    "        self.name = name\n",
    "        self.price = price\n",
    "        self.quantity = quantity\n",
    "\n",
    "        # Execute to all instance objects\n",
    "        Item.all.append(self)\n",
    "\n",
    "    def calculate_total_price2(self):\n",
    "        return self.price * self.quantity\n",
    "\n",
    "    def apply_discount(self):\n",
    "        self.price = self.price * self.pay_rate\n",
    "        \n",
    "    # the __repr__() function is used to get a printable string representation of an object\n",
    "    def __repr__(self):\n",
    "        return f\"Item('{self.name}', {self.price}, {self.quantity})\"\n",
    "\n",
    "item1 = Item(\"Phone\", 100, 1)\n",
    "item2 = Item(\"Laptop\", 1000, 3)\n",
    "item3 = Item(\"Cable\", 10, 5)\n",
    "item4 = Item(\"Mouse\", 50, 5)\n",
    "item5 = Item(\"Keyboard\", 75, 5)\n",
    "\n",
    "for i in Item.all:\n",
    "    print(i.name)\n",
    "\n",
    "print(Item.all)"
   ]
  },
  {
   "cell_type": "code",
   "execution_count": 4,
   "metadata": {},
   "outputs": [
    {
     "name": "stdout",
     "output_type": "stream",
     "text": [
      "{'name': 'Phone', 'price': '100', 'quantity': '1'}\n",
      "{'name': 'Laptop', 'price': '1000', 'quantity': '3'}\n",
      "{'name': 'Cable', 'price': '10', 'quantity': '5'}\n",
      "{'name': 'Mouse', 'price': '50', 'quantity': '5'}\n",
      "{'name': 'keyboard', 'price': '75', 'quantity': '5'}\n"
     ]
    }
   ],
   "source": [
    "import csv\n",
    "\n",
    "class Item:\n",
    "   \n",
    "    pay_rate = 0.8 \n",
    "    all = []\n",
    "\n",
    "    def __init__(self, name: str, price: float, quantity=0):\n",
    "        assert price >= 0, f\"Price {price} is not greater than zero!\"\n",
    "        assert quantity >= 0, f\"Quantity {quantity} is not greater than zero!\"\n",
    "\n",
    "        self.name = name\n",
    "        self.price = price\n",
    "        self.quantity = quantity\n",
    "\n",
    "        Item.all.append(self)\n",
    "\n",
    "    def calculate_total_price2(self):\n",
    "        return self.price * self.quantity\n",
    "\n",
    "    def apply_discount(self):\n",
    "        self.price = self.price * self.pay_rate\n",
    "\n",
    "    # Using class method to read csv\n",
    "    @classmethod\n",
    "    def instantiate_from_csv(cls):\n",
    "        with open('items.csv', 'r') as f:\n",
    "            reader = csv.DictReader(f)\n",
    "            items = list(reader)\n",
    "\n",
    "        for i in items:\n",
    "            print(i)\n",
    "        \n",
    "    def __repr__(self):\n",
    "        return f\"Item('{self.name}', {self.price}, {self.quantity})\"\n",
    "\n",
    "Item.instantiate_from_csv()"
   ]
  },
  {
   "cell_type": "code",
   "execution_count": 11,
   "metadata": {},
   "outputs": [
    {
     "name": "stdout",
     "output_type": "stream",
     "text": [
      "[Item('Phone', 100.0, 1), Item('Laptop', 1000.0, 3), Item('Cable', 10.0, 5), Item('Mouse', 50.0, 5), Item('keyboard', 75.0, 5)]\n"
     ]
    }
   ],
   "source": [
    "import csv\n",
    "\n",
    "class Item:\n",
    "   \n",
    "    pay_rate = 0.8 \n",
    "    all = []\n",
    "\n",
    "    def __init__(self, name: str, price: float, quantity=0):\n",
    "        assert price >= 0, f\"Price {price} is not greater than zero!\"\n",
    "        assert quantity >= 0, f\"Quantity {quantity} is not greater than zero!\"\n",
    "\n",
    "        self.name = name\n",
    "        self.price = price\n",
    "        self.quantity = quantity\n",
    "\n",
    "        Item.all.append(self)\n",
    "\n",
    "    def calculate_total_price2(self):\n",
    "        return self.price * self.quantity\n",
    "\n",
    "    def apply_discount(self):\n",
    "        self.price = self.price * self.pay_rate\n",
    "\n",
    "    # Using class method to read csv\n",
    "    @classmethod\n",
    "    def instantiate_from_csv(cls):\n",
    "        with open('items.csv', 'r') as f:\n",
    "            reader = csv.DictReader(f)\n",
    "            items = list(reader)\n",
    "\n",
    "        for i in items:\n",
    "            Item(\n",
    "                name=i.get('name'),\n",
    "                price=float(i.get('price')),\n",
    "                quantity=int(i.get('quantity'))\n",
    "            )\n",
    "        \n",
    "    def __repr__(self):\n",
    "        return f\"Item('{self.name}', {self.price}, {self.quantity})\"\n",
    "\n",
    "Item.instantiate_from_csv()\n",
    "print(Item.all)"
   ]
  },
  {
   "cell_type": "markdown",
   "metadata": {},
   "source": [
    "# Static Method"
   ]
  },
  {
   "cell_type": "code",
   "execution_count": 16,
   "metadata": {},
   "outputs": [
    {
     "name": "stdout",
     "output_type": "stream",
     "text": [
      "False\n"
     ]
    }
   ],
   "source": [
    "import csv\n",
    "\n",
    "class Item:\n",
    "   \n",
    "    pay_rate = 0.8 \n",
    "    all = []\n",
    "\n",
    "    def __init__(self, name: str, price: float, quantity=0):\n",
    "        assert price >= 0, f\"Price {price} is not greater than zero!\"\n",
    "        assert quantity >= 0, f\"Quantity {quantity} is not greater than zero!\"\n",
    "\n",
    "        self.name = name\n",
    "        self.price = price\n",
    "        self.quantity = quantity\n",
    "\n",
    "        Item.all.append(self)\n",
    "\n",
    "    def calculate_total_price2(self):\n",
    "        return self.price * self.quantity\n",
    "\n",
    "    def apply_discount(self):\n",
    "        self.price = self.price * self.pay_rate\n",
    "\n",
    "    @classmethod\n",
    "    def instantiate_from_csv(cls):\n",
    "        with open('items.csv', 'r') as f:\n",
    "            reader = csv.DictReader(f)\n",
    "            items = list(reader)\n",
    "\n",
    "        for i in items:\n",
    "            Item(\n",
    "                name=i.get('name'),\n",
    "                price=float(i.get('price')),\n",
    "                quantity=int(i.get('quantity'))\n",
    "            )\n",
    "    @staticmethod\n",
    "    def is_integer(num):\n",
    "        # We will count out the floats that are point zero\n",
    "        # For i.e: 5.0 10.0\n",
    "        if isinstance(num, float):\n",
    "            # Count out the floats that are point zero\n",
    "            return num.is_integer()\n",
    "        elif isinstance(num, int):\n",
    "            return True\n",
    "        else:\n",
    "            return False   \n",
    "\n",
    "    def __repr__(self):\n",
    "        return f\"Item('{self.name}', {self.price}, {self.quantity})\"\n",
    "\n",
    "print(Item.is_integer(7.5))"
   ]
  },
  {
   "cell_type": "markdown",
   "metadata": {},
   "source": [
    "# Inheritence"
   ]
  },
  {
   "cell_type": "code",
   "execution_count": 17,
   "metadata": {},
   "outputs": [
    {
     "name": "stdout",
     "output_type": "stream",
     "text": [
      "[Phone('jscPhonev10', 500, 5)]\n"
     ]
    }
   ],
   "source": [
    "import csv\n",
    "\n",
    "\n",
    "class Item:\n",
    "    pay_rate = 0.8 # The pay rate after 20% discount\n",
    "    all = []\n",
    "    def __init__(self, name: str, price: float, quantity=0):\n",
    "        # Run validations to the received arguments\n",
    "        assert price >= 0, f\"Price {price} is not greater than or equal to zero!\"\n",
    "        assert quantity >= 0, f\"Quantity {quantity} is not greater or equal to zero!\"\n",
    "\n",
    "        # Assign to self object\n",
    "        self.name = name\n",
    "        self.price = price\n",
    "        self.quantity = quantity\n",
    "\n",
    "        # Actions to execute\n",
    "        Item.all.append(self)\n",
    "\n",
    "    def calculate_total_price(self):\n",
    "        return self.price * self.quantity\n",
    "\n",
    "    def apply_discount(self):\n",
    "        self.price = self.price * self.pay_rate\n",
    "\n",
    "    @classmethod\n",
    "    def instantiate_from_csv(cls):\n",
    "        with open('items.csv', 'r') as f:\n",
    "            reader = csv.DictReader(f)\n",
    "            items = list(reader)\n",
    "\n",
    "        for item in items:\n",
    "            Item(\n",
    "                name=item.get('name'),\n",
    "                price=float(item.get('price')),\n",
    "                quantity=int(item.get('quantity')),\n",
    "            )\n",
    "\n",
    "    @staticmethod\n",
    "    def is_integer(num):\n",
    "        # We will count out the floats that are point zero\n",
    "        # For i.e: 5.0, 10.0\n",
    "        if isinstance(num, float):\n",
    "            # Count out the floats that are point zero\n",
    "            return num.is_integer()\n",
    "        elif isinstance(num, int):\n",
    "            return True\n",
    "        else:\n",
    "            return False\n",
    "\n",
    "    def __repr__(self):\n",
    "        return f\"{self.__class__.__name__}('{self.name}', {self.price}, {self.quantity})\"\n",
    "\n",
    "\n",
    "class Phone(Item):\n",
    "    def __init__(self, name: str, price: float, quantity=0, broken_phones=0):\n",
    "        # Call to super function to have access to all attributes / methods\n",
    "        super().__init__(\n",
    "            name, price, quantity\n",
    "        )\n",
    "\n",
    "        # Run validations to the received arguments\n",
    "        assert broken_phones >= 0, f\"Broken Phones {broken_phones} is not greater or equal to zero!\"\n",
    "\n",
    "        # Assign to self object\n",
    "        self.broken_phones = broken_phones\n",
    "\n",
    "phone1 = Phone(\"jscPhonev10\", 500, 5, 1)\n",
    "\n",
    "print(Item.all)"
   ]
  },
  {
   "cell_type": "code",
   "execution_count": null,
   "metadata": {},
   "outputs": [],
   "source": [
    "import csv\n",
    "\n",
    "class item:\n",
    "    \n"
   ]
  },
  {
   "cell_type": "code",
   "execution_count": null,
   "metadata": {},
   "outputs": [],
   "source": []
  },
  {
   "cell_type": "markdown",
   "metadata": {},
   "source": [
    "# Practice"
   ]
  },
  {
   "cell_type": "code",
   "execution_count": 38,
   "metadata": {},
   "outputs": [],
   "source": [
    "class DefaultDict(dict):\n",
    "    def __missing__(self, key):\n",
    "#         newval = []\n",
    "#         self[key] = newval\n",
    "        return []\n",
    "    \n",
    "d = DefaultDict()"
   ]
  },
  {
   "cell_type": "code",
   "execution_count": 39,
   "metadata": {},
   "outputs": [],
   "source": [
    "d['florp'] = 127"
   ]
  },
  {
   "cell_type": "code",
   "execution_count": 36,
   "metadata": {},
   "outputs": [],
   "source": [
    "d['florp'] = 125"
   ]
  },
  {
   "cell_type": "code",
   "execution_count": 40,
   "metadata": {},
   "outputs": [
    {
     "data": {
      "text/plain": [
       "{'florp': 127}"
      ]
     },
     "execution_count": 40,
     "metadata": {},
     "output_type": "execute_result"
    }
   ],
   "source": [
    "d"
   ]
  },
  {
   "cell_type": "code",
   "execution_count": 34,
   "metadata": {},
   "outputs": [
    {
     "name": "stdout",
     "output_type": "stream",
     "text": [
      "2010\n",
      "Carlos 4.0 2010\n",
      "Carlos 4.08 2010\n"
     ]
    }
   ],
   "source": [
    "class students:\n",
    "    \n",
    "    cgpa = 1.02\n",
    "    \n",
    "    def __init__(self, first, gpa, year):\n",
    "        self.first = first\n",
    "        self.gpa = gpa\n",
    "        self.start_date = year\n",
    "        \n",
    "    def getInfo(self):\n",
    "        return f'{self.first} {self.gpa} {self.start_date}'\n",
    "    \n",
    "    def change_gpa(self):\n",
    "        self.gpa = self.gpa * self.cgpa\n",
    "    \n",
    "        \n",
    "\n",
    "st1 = students('Carlos', 4.0, 2010)\n",
    "st2 = students('mccrum', 4.0, 2011)\n",
    "\n",
    "print(st1.start_date)\n",
    "\n",
    "print(st1.getInfo())\n",
    "st1.change_gpa()\n",
    "print(st1.getInfo())"
   ]
  },
  {
   "cell_type": "markdown",
   "metadata": {},
   "source": [
    "## Methods class and static"
   ]
  },
  {
   "cell_type": "code",
   "execution_count": 35,
   "metadata": {},
   "outputs": [
    {
     "name": "stdout",
     "output_type": "stream",
     "text": [
      "1.05\n",
      "1.05\n",
      "1.05\n",
      "John.Doe@email.com\n",
      "70000\n",
      "True\n"
     ]
    }
   ],
   "source": [
    "\n",
    "class Employee:\n",
    "\n",
    "    num_of_emps = 0\n",
    "    raise_amt = 1.04\n",
    "\n",
    "    def __init__(self, first, last, pay):\n",
    "        self.first = first\n",
    "        self.last = last\n",
    "        self.email = first + '.' + last + '@email.com'\n",
    "        self.pay = pay\n",
    "\n",
    "        Employee.num_of_emps += 1\n",
    "\n",
    "    def fullname(self):\n",
    "        return '{} {}'.format(self.first, self.last)\n",
    "\n",
    "    def apply_raise(self):\n",
    "        self.pay = int(self.pay * self.raise_amt)\n",
    "\n",
    "    @classmethod\n",
    "    def set_raise_amt(cls, amount):\n",
    "        cls.raise_amt = amount\n",
    "\n",
    "    @classmethod\n",
    "    def from_string(cls, emp_str):\n",
    "        first, last, pay = emp_str.split('-')\n",
    "        return cls(first, last, pay)\n",
    "\n",
    "    @staticmethod\n",
    "    def is_workday(day):\n",
    "        if day.weekday() == 5 or day.weekday() == 6:\n",
    "            return False\n",
    "        return True\n",
    "\n",
    "\n",
    "emp_1 = Employee('Corey', 'Schafer', 50000)\n",
    "emp_2 = Employee('Test', 'Employee', 60000)\n",
    "\n",
    "Employee.set_raise_amt(1.05)\n",
    "\n",
    "print(Employee.raise_amt)\n",
    "print(emp_1.raise_amt)\n",
    "print(emp_2.raise_amt)\n",
    "\n",
    "emp_str_1 = 'John-Doe-70000'\n",
    "emp_str_2 = 'Steve-Smith-30000'\n",
    "emp_str_3 = 'Jane-Doe-90000'\n",
    "\n",
    "first, last, pay = emp_str_1.split('-')\n",
    "\n",
    "#new_emp_1 = Employee(first, last, pay)\n",
    "new_emp_1 = Employee.from_string(emp_str_1)\n",
    "\n",
    "print(new_emp_1.email)\n",
    "print(new_emp_1.pay)\n",
    "\n",
    "import datetime\n",
    "my_date = datetime.date(2016, 7, 11)\n",
    "\n",
    "print(Employee.is_workday(my_date))"
   ]
  },
  {
   "cell_type": "markdown",
   "metadata": {
    "tags": []
   },
   "source": [
    "## Inheritence"
   ]
  },
  {
   "cell_type": "code",
   "execution_count": 36,
   "metadata": {
    "tags": []
   },
   "outputs": [
    {
     "name": "stdout",
     "output_type": "stream",
     "text": [
      "Sue.Smith@email.com\n",
      "--> Corey Schafer\n"
     ]
    }
   ],
   "source": [
    "\n",
    "class Employee:\n",
    "\n",
    "    raise_amt = 1.04\n",
    "\n",
    "    def __init__(self, first, last, pay):\n",
    "        self.first = first\n",
    "        self.last = last\n",
    "        self.email = first + '.' + last + '@email.com'\n",
    "        self.pay = pay\n",
    "\n",
    "    def fullname(self):\n",
    "        return '{} {}'.format(self.first, self.last)\n",
    "\n",
    "    def apply_raise(self):\n",
    "        self.pay = int(self.pay * self.raise_amt)\n",
    "\n",
    "\n",
    "class Developer(Employee):\n",
    "    raise_amt = 1.10\n",
    "\n",
    "    def __init__(self, first, last, pay, prog_lang):\n",
    "        super().__init__(first, last, pay)\n",
    "        self.prog_lang = prog_lang\n",
    "\n",
    "\n",
    "class Manager(Employee):\n",
    "\n",
    "    def __init__(self, first, last, pay, employees=None):\n",
    "        super().__init__(first, last, pay)\n",
    "        if employees is None:\n",
    "            self.employees = []\n",
    "        else:\n",
    "            self.employees = employees\n",
    "\n",
    "    def add_emp(self, emp):\n",
    "        if emp not in self.employees:\n",
    "            self.employees.append(emp)\n",
    "\n",
    "    def remove_emp(self, emp):\n",
    "        if emp in self.employees:\n",
    "            self.employees.remove(emp)\n",
    "\n",
    "    def print_emps(self):\n",
    "        for emp in self.employees:\n",
    "            print('-->', emp.fullname())\n",
    "\n",
    "\n",
    "dev_1 = Developer('Corey', 'Schafer', 50000, 'Python')\n",
    "dev_2 = Developer('Test', 'Employee', 60000, 'Java')\n",
    "\n",
    "mgr_1 = Manager('Sue', 'Smith', 90000, [dev_1])\n",
    "\n",
    "print(mgr_1.email)\n",
    "\n",
    "mgr_1.add_emp(dev_2)\n",
    "mgr_1.remove_emp(dev_2)\n",
    "\n",
    "mgr_1.print_emps()"
   ]
  },
  {
   "cell_type": "code",
   "execution_count": 102,
   "metadata": {},
   "outputs": [
    {
     "name": "stdout",
     "output_type": "stream",
     "text": [
      "Carlos.McCrum@company.com\n",
      "Carlos McCrum\n",
      "50000\n",
      "55000.00000000001\n",
      "Bossy Boss\n",
      "None\n",
      "1.025\n",
      "1.03\n",
      "3\n"
     ]
    }
   ],
   "source": [
    "class Employees:\n",
    "    \n",
    "    num_employees = 0\n",
    "    raise_amt = 1.025\n",
    "    \n",
    "    def __init__(self, first, last, pay):\n",
    "        self.first = first\n",
    "        self.last = last\n",
    "        self.pay = pay\n",
    "        self.email = first + '.' + last + '@company.com'\n",
    "        \n",
    "        Employees.num_employees += 1\n",
    "    \n",
    "    def fullname(self):\n",
    "        return f'{self.first} {self.last}'\n",
    "    \n",
    "    def payRaise(self, amount):\n",
    "        self.pay = self.pay * amount\n",
    "        \n",
    "        \n",
    "    @classmethod\n",
    "    def allRaise(cls, amount):\n",
    "        cls.raise_amt = amount\n",
    "        \n",
    "class Manager(Employees):\n",
    "    \n",
    "    def __init__(self, first, last, pay, employee=None):\n",
    "        super().__init__(first, last, pay)\n",
    "        if employee is None:\n",
    "            self.employee = []\n",
    "        else:\n",
    "            self.employee = employee\n",
    "            \n",
    "    def printEmp(self):\n",
    "        for emp in self.employee:\n",
    "            print('-->', emp.fullname())\n",
    "            \n",
    "emp1 = Employees('Carlos', 'McCrum', 50000)\n",
    "emp2 = Employees('John', 'Doe', 45000)\n",
    "\n",
    "mng1 = Manager('Bossy', 'Boss', 100000)\n",
    "\n",
    "print(emp1.email)\n",
    "print(emp1.fullname())\n",
    "print(emp1.pay)\n",
    "emp1.payRaise(1.1)\n",
    "print(emp1.pay)\n",
    "print(mng1.fullname())\n",
    "print(mng1.printEmp())\n",
    "print(Employees.raise_amt)\n",
    "Employees.allRaise(1.03)\n",
    "print(Employees.raise_amt)\n",
    "print(Employees.num_employees)"
   ]
  },
  {
   "cell_type": "code",
   "execution_count": 86,
   "metadata": {},
   "outputs": [
    {
     "name": "stdout",
     "output_type": "stream",
     "text": [
      "1 2 3 4 \n",
      "5 1 2 3 4 \n"
     ]
    }
   ],
   "source": [
    "class Node:\n",
    "    \n",
    "    def __init__(self, data):\n",
    "        self.data = data\n",
    "        self.next = None\n",
    "        \n",
    "class linked:\n",
    "    \n",
    "    def __init__(self):\n",
    "        self.head = None\n",
    "        \n",
    "    def printL(self):\n",
    "        temp = self.head\n",
    "        l = ''\n",
    "        while(temp):\n",
    "            l += str(temp.data) + ' '\n",
    "            temp = temp.next\n",
    "        print(l)\n",
    "        \n",
    "    def insert(self, val, pos):\n",
    "        target = Node(val)\n",
    "        if(pos==0):\n",
    "            target.next = self.head\n",
    "            self.head = target\n",
    "            return\n",
    "        def getprev(pos):\n",
    "            temp = self.head\n",
    "            count = 1\n",
    "            while(count < pos):\n",
    "                temp = temp.next\n",
    "                count += 1\n",
    "            return temp\n",
    "        \n",
    "        prev = getprev(pos)\n",
    "        nextnode = prev.next\n",
    "        \n",
    "        prev.next = target\n",
    "        target.next = nextnode\n",
    "        \n",
    "linked = linked()\n",
    "linked.head = Node(1)\n",
    "\n",
    "second = Node(2)\n",
    "third = Node(3)\n",
    "fourth = Node(4)\n",
    "\n",
    "linked.head.next = second\n",
    "second.next = third\n",
    "third.next = fourth\n",
    "\n",
    "linked.printL()\n",
    "linked.insert(5,0)\n",
    "linked.printL()"
   ]
  },
  {
   "cell_type": "code",
   "execution_count": null,
   "metadata": {},
   "outputs": [],
   "source": [
    "import unittest\n",
    "import calc\n",
    "\n",
    "class Tester(unittest.TestCase)\n",
    "\n",
    "    def test_add(self):\n",
    "        self.assertEqual(calc.add(2,3) 5)\n",
    "        \n",
    "if __name__ == '__main__':\n",
    "    unittest.main()"
   ]
  }
 ],
 "metadata": {
  "interpreter": {
   "hash": "616f6a4f92179ca46708cb1cb1765744fb1d4de925297a50ffbc1c3a0a4f2fe0"
  },
  "kernelspec": {
   "display_name": "Python 3 (ipykernel)",
   "language": "python",
   "name": "python3"
  },
  "language_info": {
   "codemirror_mode": {
    "name": "ipython",
    "version": 3
   },
   "file_extension": ".py",
   "mimetype": "text/x-python",
   "name": "python",
   "nbconvert_exporter": "python",
   "pygments_lexer": "ipython3",
   "version": "3.9.11"
  }
 },
 "nbformat": 4,
 "nbformat_minor": 4
}
