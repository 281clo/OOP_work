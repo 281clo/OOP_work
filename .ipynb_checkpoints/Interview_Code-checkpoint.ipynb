{
 "cells": [
  {
   "cell_type": "markdown",
   "id": "official-nebraska",
   "metadata": {},
   "source": [
    "1. Given an array of integers (positive and negative) write a program that can find the largest continuous sum.\n",
    "- You just need to return the total sum amount, not the sequence.\n",
    "\n",
    "[7,8,9] answer is: 7+8+9 = 24\n",
    "\n",
    "[-1,7,8,9,-10] anser is: 7+8+9=24\n",
    "\n",
    "[2,3,-10,9,2] answer is 9+2=11\n",
    "\n",
    "[2,11,-10,9,2] answer is 2+11-10+2=14\n",
    "\n",
    "[12,-10,7,-8,4,6] answer is 12"
   ]
  },
  {
   "cell_type": "code",
   "execution_count": 8,
   "id": "statewide-coach",
   "metadata": {},
   "outputs": [
    {
     "data": {
      "text/plain": [
       "14"
      ]
     },
     "execution_count": 8,
     "metadata": {},
     "output_type": "execute_result"
    }
   ],
   "source": [
    "def large_cont_sum(arr):\n",
    "    \n",
    "    if len(arr) == 0:\n",
    "        \n",
    "        return 0\n",
    "    \n",
    "    max_sum = arr[0]\n",
    "    current_sum = arr[0]\n",
    "    \n",
    "    for num in arr[1:]:\n",
    "        current_sum = max(current_sum + num, num)\n",
    "        max_sum = max(current_sum, max_sum)\n",
    "\n",
    "    return(max_sum)\n",
    "    \n",
    "large_cont_sum([2,11,-10,9,2])    "
   ]
  },
  {
   "cell_type": "markdown",
   "id": "ancient-sudan",
   "metadata": {},
   "source": [
    "2. Given a string in the form 'AAAABBBBCCCCCDDEEEE' compress it to become 'A4B4C5D2E4'\n",
    "- For the problem, you can falsely \"compress\" strings of single or double letters.\n",
    "- For instance, it is okay for 'AAB' to return 'A2B1' even though this technically takes more space.\n",
    "- The function should also be case sensitive, so that a string 'AAAaaa' returns 'A3a3'."
   ]
  },
  {
   "cell_type": "code",
   "execution_count": 2,
   "id": "induced-option",
   "metadata": {},
   "outputs": [
    {
     "data": {
      "text/plain": [
       "'A4B4C5D2E4'"
      ]
     },
     "execution_count": 2,
     "metadata": {},
     "output_type": "execute_result"
    }
   ],
   "source": [
    "def compress(s):\n",
    "    \n",
    "    run = \"\" # Empty string to add to\n",
    "    length = len(s) \n",
    "    if length == 0: # First edge case\n",
    "        \n",
    "        return \"\"\n",
    "    \n",
    "    # \"A\" --> \"A1\"\n",
    "    if length == 1: # Second edge case\n",
    "        \n",
    "        return s + \"1\"\n",
    "    \n",
    "    cnt = 1 # Initialize variables, Count variable\n",
    "    i = 1 # Index holder\n",
    "    while i < length: # While i is less than length of string\n",
    "        \n",
    "        if s[i] == s[i-1]: # If the letter at the current index position == letter before it\n",
    "            cnt +=1 \n",
    "            \n",
    "        else: # Means no more letter matches, so we store results\n",
    "            run = run + s[i-1] + str(cnt) # add current count\n",
    "            cnt = 1 # reset the count\n",
    "        \n",
    "        i += 1 # add to index count to terminate while loop\n",
    "        \n",
    "    run = run + s[i-1] + str(cnt) # put all together\n",
    "    \n",
    "    return run\n",
    "\n",
    "compress('AAAABBBBCCCCCDDEEEE')"
   ]
  },
  {
   "cell_type": "markdown",
   "id": "julian-outline",
   "metadata": {},
   "source": [
    "3. You are given an array of historical stock prices per day, for example:\n",
    "    - [6,13,2,10,3,5]\n",
    "    - Write an algorithm that figures out what days (index of array) you could buy and sell the stock for maximum profit. \n",
    "    - You are only allowed to buy the stock once and sell it once. \n",
    "    - Also no shorting the stock, you have to buy before selling.\n",
    "   "
   ]
  },
  {
   "cell_type": "code",
   "execution_count": 18,
   "id": "driven-spelling",
   "metadata": {},
   "outputs": [
    {
     "data": {
      "text/plain": [
       "19"
      ]
     },
     "execution_count": 18,
     "metadata": {},
     "output_type": "execute_result"
    }
   ],
   "source": [
    "\"\"\" We can't just find the maximum price and the lowest price and then subtract\n",
    "the two, because the max could come before the min. \"\"\"\n",
    "# Greedy algorithm approach.\n",
    "\n",
    "def profit(stock_prices):\n",
    "    \n",
    "    if len(stock_prices) < 2:\n",
    "        return \"Need more prices!\"\n",
    "    \n",
    "    min_stock_price = stock_prices[0]\n",
    "    \n",
    "    max_profit = 0\n",
    "    \n",
    "    for price in stock_prices:\n",
    "        \n",
    "        min_stock_price = min(min_stock_price, price)\n",
    "        \n",
    "        comparison_profit = price - min_stock_price\n",
    "        \n",
    "        max_profit = max(max_profit, comparison_profit)\n",
    "        \n",
    "    return max_profit\n",
    "\n",
    "profit([1,20,9,12])"
   ]
  },
  {
   "cell_type": "markdown",
   "id": "outdoor-aquarium",
   "metadata": {},
   "source": [
    "4. Consider an array of non-negative integers. A second array is formed by shuffling the elements of the first array and deleting a random element. Given these two arrays, find which element is missing in the second array.\n",
    "    - [1,2,3,4,5]\n",
    "    - [1,3,4,5]\n",
    "        - The missing value was 2\n"
   ]
  },
  {
   "cell_type": "code",
   "execution_count": 27,
   "id": "informational-occupation",
   "metadata": {},
   "outputs": [
    {
     "name": "stdout",
     "output_type": "stream",
     "text": [
      "4\n",
      "4\n"
     ]
    }
   ],
   "source": [
    "\"\"\" Since we know all the numbers are non-negative, we can simply sum up\n",
    "both arrays, check the difference, and yhou have your missing element.\n",
    "\n",
    "Or you can sort both arrays, and then just go through them sequentially until\n",
    "you don't have a match!\"\n",
    "\"\"\"\n",
    "\n",
    "def finder(arr1, arr2):\n",
    "    \n",
    "    arr1.sort()\n",
    "    arr2.sort()\n",
    "    \n",
    "    for num1, num2 in zip(arr1, arr2):\n",
    "        if num1 != num2:\n",
    "            return num1\n",
    "        \n",
    "    return arr1[-1]\n",
    "print(finder([1,2,3,4,5], [1,3,2,5]))\n",
    "\n",
    "# SECOND METHOD\n",
    "def finder(arr1, arr2):\n",
    "\n",
    "    return sum(arr1) - sum(arr2)\n",
    "print(finder([1,2,3,4,5], [1,3,2,5]))"
   ]
  },
  {
   "cell_type": "markdown",
   "id": "looking-guard",
   "metadata": {},
   "source": [
    "5. Find duplicates in a list using a function."
   ]
  },
  {
   "cell_type": "code",
   "execution_count": 1,
   "id": "living-empty",
   "metadata": {},
   "outputs": [
    {
     "data": {
      "text/plain": [
       "{1: 1, 2: 1, 3: 1, 4: 1, 5: 3, 6: 1, 7: 3}"
      ]
     },
     "execution_count": 1,
     "metadata": {},
     "output_type": "execute_result"
    }
   ],
   "source": [
    "a = [1,2,3,4,5,5,5,6,7,7,7,]\n",
    "\n",
    "def dup(a):\n",
    "    mask = {}\n",
    "    for i in a:\n",
    "        mask[i]=a.count(i)\n",
    "    return mask\n",
    "        \n",
    "dup(a)    "
   ]
  },
  {
   "cell_type": "markdown",
   "id": "minute-surprise",
   "metadata": {},
   "source": [
    "6. Binary Search algorithim to find where target is located in a array."
   ]
  },
  {
   "cell_type": "code",
   "execution_count": 10,
   "id": "crucial-capacity",
   "metadata": {},
   "outputs": [
    {
     "name": "stdout",
     "output_type": "stream",
     "text": [
      "Element is not present in the array\n"
     ]
    }
   ],
   "source": [
    "def binarySearch(arr, target):\n",
    "    left = 0\n",
    "    right = len(arr)-1\n",
    "    \n",
    "    while(left<=right):\n",
    "        mid = (left+right)//2\n",
    "        \n",
    "        if(arr[mid] == target):\n",
    "            return mid\n",
    "        elif(arr[mid] < target):\n",
    "            left = mid+1\n",
    "        else:\n",
    "            right = mid-1\n",
    "    return -1\n",
    "arr = [1,2,3,4,5,6]\n",
    "target = 8\n",
    "\n",
    "result = binarySearch(arr, target)\n",
    "\n",
    "if result != -1:\n",
    "    print(\"Element is present at index %d\" % result)\n",
    "else: \n",
    "    print(\"Element is not present in the array\")"
   ]
  },
  {
   "cell_type": "markdown",
   "id": "positive-apollo",
   "metadata": {},
   "source": [
    "7. Sum of an array"
   ]
  },
  {
   "cell_type": "code",
   "execution_count": 13,
   "id": "increasing-firewall",
   "metadata": {},
   "outputs": [
    {
     "name": "stdout",
     "output_type": "stream",
     "text": [
      "104\n"
     ]
    }
   ],
   "source": [
    "def maxSum(arr, windowSize):\n",
    "    arraySize = len(arr)\n",
    "    # n must be greater than k\n",
    "    if arraySize <= windowSize:\n",
    "        print(\"Invalid operation\")\n",
    "        return -1\n",
    "\n",
    "    # Compute sum of first window of size k\n",
    "    window_sum = sum([arr[i] for i in range(windowSize)])\n",
    "    max_sum = window_sum\n",
    "    # Compute sums of remaining windows by\n",
    "    # removing first element of previous\n",
    "    # window and adding last element of\n",
    "    # current window.\n",
    "    for i in range(arraySize-windowSize):\n",
    "        window_sum = window_sum - arr[i] + arr[i + windowSize]\n",
    "        max_sum = max(window_sum, max_sum)\n",
    "\n",
    "    return max_sum\n",
    "\n",
    "\n",
    "arr = [1, 2, 100, -1, 5]\n",
    "# maximum sum should be 104 => 100 + -1 + 5\n",
    "answer = maxSum(arr, 3)\n",
    "print(answer)"
   ]
  },
  {
   "cell_type": "markdown",
   "id": "communist-syracuse",
   "metadata": {},
   "source": [
    "8. Find valid quadrupales in a given array"
   ]
  },
  {
   "cell_type": "code",
   "execution_count": 14,
   "id": "standing-tower",
   "metadata": {},
   "outputs": [
    {
     "name": "stdout",
     "output_type": "stream",
     "text": [
      "5\n"
     ]
    }
   ],
   "source": [
    "# Python3 program of the\n",
    "# above approach\n",
    " \n",
    "maxN = 2002;\n",
    " \n",
    "# lcount[i][j]: Stores the\n",
    "# count of i on left of index j\n",
    "lcount = [[0 for i in range(maxN)] for j in range(maxN)]\n",
    " \n",
    "# rcount[i][j]: Stores the\n",
    "# count of i on right of index j\n",
    "rcount = [[0 for i in range(maxN)] for j in range(maxN)]\n",
    " \n",
    "# Function to count unique\n",
    "# elements on left and right\n",
    "# of any index\n",
    "def fill_counts(a, n):\n",
    " \n",
    "    # Find the maximum\n",
    "    # array element\n",
    "    maxA = a[0];\n",
    " \n",
    "    for i in range(n):\n",
    "        if (a[i] > maxA):\n",
    "            maxA = a[i];\n",
    " \n",
    "    for i in range(n):\n",
    "        lcount[a[i]][i] = 1;\n",
    "        rcount[a[i]][i] = 1;\n",
    " \n",
    "    for i in range(maxA + 1):\n",
    "       \n",
    "        # Calculate prefix sum of\n",
    "        # counts of each value\n",
    "        for j in range(1, n):\n",
    "            lcount[i][j] = lcount[i][j - 1] + lcount[i][j];\n",
    " \n",
    "        # Calculate suffix sum of\n",
    "        # counts of each value\n",
    "        for j in range(n - 2, 0, -1):\n",
    "            rcount[i][j] = rcount[i][j + 1] + rcount[i][j]\n",
    " \n",
    "def countSubsequence(a, n):\n",
    "    fill_counts(a, n);\n",
    "    answer = 0;\n",
    "    for i in range(1, n):\n",
    "        for j in range(i + 1, n - 1):\n",
    "            answer += lcount[a[j]][i - 1] * rcount[a[i]][j + 1];\n",
    " \n",
    "    return answer;\n",
    " \n",
    "# Driver Code\n",
    "if __name__ == '__main__':\n",
    "    a = [1, 2, 3, 2, 1, 3, 2];\n",
    "    print(countSubsequence(a, len(a)));"
   ]
  },
  {
   "cell_type": "markdown",
   "id": "indirect-twelve",
   "metadata": {},
   "source": [
    "9. List comprehension of even numbers and even indices"
   ]
  },
  {
   "cell_type": "code",
   "execution_count": 16,
   "id": "future-handy",
   "metadata": {},
   "outputs": [
    {
     "data": {
      "text/plain": [
       "[10, 18, 78]"
      ]
     },
     "execution_count": 16,
     "metadata": {},
     "output_type": "execute_result"
    }
   ],
   "source": [
    "#        0   1   2   3    4    5    6    7    8\n",
    "mask = [ 1 , 3 , 5 , 8 , 10 , 13 , 18 , 36 , 78 ]\n",
    "\n",
    "[x for x in mask[::2] if x%2 == 0]"
   ]
  },
  {
   "cell_type": "code",
   "execution_count": 30,
   "id": "right-rapid",
   "metadata": {},
   "outputs": [
    {
     "data": {
      "text/plain": [
       "([1, 5, 10, 18, 78], [1, 8, 18], [1, 10, 78])"
      ]
     },
     "execution_count": 30,
     "metadata": {},
     "output_type": "execute_result"
    }
   ],
   "source": [
    "mask[::2], mask[::3], mask[::4]"
   ]
  },
  {
   "cell_type": "markdown",
   "id": "a04550ee-9baa-45a0-b608-c15d9cc9fc4c",
   "metadata": {
    "tags": []
   },
   "source": [
    "# Linked Lists Single"
   ]
  },
  {
   "cell_type": "markdown",
   "id": "7f3bd2bd-3f66-4655-a2e7-7c1a0ca1e97e",
   "metadata": {
    "tags": []
   },
   "source": [
    "#### Creation"
   ]
  },
  {
   "cell_type": "code",
   "execution_count": 92,
   "id": "64dffcf2-6daf-453b-a974-d2ff5a4987d6",
   "metadata": {},
   "outputs": [
    {
     "name": "stdout",
     "output_type": "stream",
     "text": [
      "1 2 3 4 \n",
      "1 2 3 4 5 \n"
     ]
    }
   ],
   "source": [
    "class Node:\n",
    "    \n",
    "    def __init__(self, data):\n",
    "        self.data = data\n",
    "        self.next = None\n",
    "        \n",
    "class linkedL:\n",
    "    \n",
    "    def __init__(self):\n",
    "        self.head = None\n",
    "    \n",
    "    def printL(self):\n",
    "        temp = self.head\n",
    "        l = ''\n",
    "        while(temp):\n",
    "            l += str(temp.data) + ' ' \n",
    "            temp = temp.next\n",
    "        print(l)\n",
    "    \n",
    "    def insert(self, val, pos):\n",
    "        target = Node(val)\n",
    "        if(pos==0):\n",
    "            target.next = self.head\n",
    "            self.head = target.next\n",
    "            return\n",
    "        \n",
    "        def getprev(pos):\n",
    "            temp = self.head\n",
    "            count = 1\n",
    "            while(count < pos):\n",
    "                temp = temp.next\n",
    "                count += 1\n",
    "            return temp\n",
    "        \n",
    "        prev = getprev(pos)\n",
    "        nextnode = prev.next\n",
    "        \n",
    "        prev.next = target\n",
    "        target.next = nextnode\n",
    "        \n",
    "linked = linkedL()\n",
    "linked.head = Node(1)\n",
    "second = Node(2)\n",
    "third = Node(3)\n",
    "fourth = Node(4)\n",
    "\n",
    "linked.head.next = second\n",
    "second.next = third\n",
    "third.next = fourth\n",
    "\n",
    "linked.printL()\n",
    "linked.insert(5,4)\n",
    "linked.printL()\n",
    "        "
   ]
  },
  {
   "cell_type": "code",
   "execution_count": 1,
   "id": "ee998fe3-e6c0-4601-af6a-14f5490bb02e",
   "metadata": {
    "tags": []
   },
   "outputs": [
    {
     "name": "stdout",
     "output_type": "stream",
     "text": [
      "5 1 3 7 \n"
     ]
    }
   ],
   "source": [
    "class Node:\n",
    "    def __init__(self, data):\n",
    "        self.data = data\n",
    "        self.next = None\n",
    "\n",
    "\n",
    "class LinkedList:\n",
    "    def __init__(self):\n",
    "        self.head = None\n",
    "\n",
    "    def printList(self):\n",
    "        temp = self.head\n",
    "        linked_list = \"\"\n",
    "        while(temp):\n",
    "            linked_list += (str(temp.data) + \" \")\n",
    "            temp = temp.next\n",
    "        print(linked_list)\n",
    "\n",
    "# Node strucutre: 5 => 1 => 3 => 7\n",
    "\n",
    "\n",
    "linked_list = LinkedList()\n",
    "linked_list.head = Node(5)\n",
    "\n",
    "second_node = Node(1)\n",
    "third_node = Node(3)\n",
    "fourth_node = Node(7)\n",
    "\n",
    "linked_list.head.next = second_node\n",
    "second_node.next = third_node\n",
    "third_node.next = fourth_node\n",
    "\n",
    "linked_list.printList()\n"
   ]
  },
  {
   "cell_type": "markdown",
   "id": "d891e84c-3486-4cef-91d2-e5d5147064fb",
   "metadata": {
    "jp-MarkdownHeadingCollapsed": true,
    "tags": []
   },
   "source": [
    "#### Insertion"
   ]
  },
  {
   "cell_type": "code",
   "execution_count": 2,
   "id": "fef2376e-d8c2-4941-9e5f-0937da590993",
   "metadata": {},
   "outputs": [
    {
     "name": "stdout",
     "output_type": "stream",
     "text": [
      "5 1 2 3 7 \n"
     ]
    }
   ],
   "source": [
    "class Node:\n",
    "\n",
    "    def __init__(self, data):\n",
    "        self.data = data\n",
    "        self.next = None\n",
    "\n",
    "\n",
    "class LinkedList:\n",
    "\n",
    "    def __init__(self):\n",
    "        self.head = None\n",
    "\n",
    "    def printList(self):\n",
    "        temp = self.head\n",
    "        linked_list = \"\"\n",
    "        while(temp):\n",
    "            linked_list += (str(temp.data) + \" \")\n",
    "            temp = temp.next\n",
    "        print(linked_list)\n",
    "\n",
    "    # list start at 0\n",
    "    def insertNode(self, val, pos):\n",
    "        target = Node(val)\n",
    "        if(pos == 0):\n",
    "            target.next = self.head\n",
    "            self.head = target\n",
    "            return\n",
    "\n",
    "        def getPrev(pos):\n",
    "            temp = self.head\n",
    "            count = 1\n",
    "            while(count < pos):\n",
    "                temp = temp.next\n",
    "                count += 1\n",
    "            return temp\n",
    "\n",
    "        prev = getPrev(pos)\n",
    "        nextNode = prev.next\n",
    "\n",
    "        prev.next = target\n",
    "        target.next = nextNode\n",
    "\n",
    "\n",
    "# List Structure : 5 => 1 => 3 => 7\n",
    "linked_list = LinkedList()\n",
    "linked_list.head = Node(5)\n",
    "\n",
    "second_node = Node(1)\n",
    "third_node = Node(3)\n",
    "fourth_node = Node(7)\n",
    "\n",
    "linked_list.head.next = second_node\n",
    "second_node.next = third_node\n",
    "third_node.next = fourth_node\n",
    "\n",
    "linked_list.insertNode(2, 2)\n",
    "linked_list.printList()"
   ]
  },
  {
   "cell_type": "markdown",
   "id": "26074fea-0742-4c61-92c7-398e689e6062",
   "metadata": {
    "jp-MarkdownHeadingCollapsed": true,
    "tags": []
   },
   "source": [
    "#### Deletion"
   ]
  },
  {
   "cell_type": "code",
   "execution_count": 51,
   "id": "49dc129f-949e-488e-8996-417bfd23dbff",
   "metadata": {},
   "outputs": [
    {
     "name": "stdout",
     "output_type": "stream",
     "text": [
      "5 1 3 7 \n",
      "5 3 7 \n"
     ]
    }
   ],
   "source": [
    "class Node:\n",
    "\n",
    "    def __init__(self, data):\n",
    "        self.data = data\n",
    "        self.next = None\n",
    "\n",
    "\n",
    "class LinkedList:\n",
    "\n",
    "    def __init__(self):\n",
    "        self.head = None\n",
    "\n",
    "    def printList(self):\n",
    "        temp = self.head\n",
    "        linked_list = \"\"\n",
    "        while(temp):\n",
    "            linked_list += (str(temp.data) + \" \")\n",
    "            temp = temp.next\n",
    "        print(linked_list)\n",
    "\n",
    "    def deleteNode(self, key):\n",
    "        temp = self.head\n",
    "        if(temp is None):\n",
    "            return\n",
    "        if(temp.data == key):\n",
    "            self.head = temp.next\n",
    "            temp = None\n",
    "            return\n",
    "\n",
    "        while(temp.next.data != key):\n",
    "            temp = temp.next\n",
    "\n",
    "        target_node = temp.next\n",
    "        temp.next = target_node.next\n",
    "        target_node.next = None\n",
    "\n",
    "\n",
    "# List Structure : 5 => 1 => 3 => 7\n",
    "# 5 => 1 => 7\n",
    "linked_list = LinkedList()\n",
    "linked_list.head = Node(5)\n",
    "\n",
    "second_node = Node(1)\n",
    "third_node = Node(3)\n",
    "fourth_node = Node(7)\n",
    "\n",
    "linked_list.head.next = second_node\n",
    "second_node.next = third_node\n",
    "third_node.next = fourth_node\n",
    "linked_list.printList()\n",
    "linked_list.deleteNode(1)\n",
    "linked_list.printList()"
   ]
  },
  {
   "cell_type": "markdown",
   "id": "17a2d7e9-cbd1-4d7f-81c9-e51ddc1d807b",
   "metadata": {
    "jp-MarkdownHeadingCollapsed": true,
    "tags": []
   },
   "source": [
    "# Linked Lists Double"
   ]
  },
  {
   "cell_type": "markdown",
   "id": "2d0c41c0-8276-4ef9-9432-73d055cab08e",
   "metadata": {
    "tags": []
   },
   "source": [
    "#### Creation"
   ]
  },
  {
   "cell_type": "code",
   "execution_count": 44,
   "id": "42f4600d-4a9d-4e0f-808e-06f188b30d2d",
   "metadata": {},
   "outputs": [
    {
     "name": "stdout",
     "output_type": "stream",
     "text": [
      "1 2 3 4 5 \n"
     ]
    }
   ],
   "source": [
    "class Node:\n",
    "    def __init__(self, data):\n",
    "        self.data = data\n",
    "        self.prev = None\n",
    "        self.next = None\n",
    "\n",
    "\n",
    "class LinkedList:\n",
    "    def __init__(self):\n",
    "        self.head = None\n",
    "\n",
    "    def createList(self, arr):\n",
    "        start = self.head\n",
    "        n = len(arr)\n",
    "\n",
    "        temp = start\n",
    "        i = 0\n",
    "\n",
    "        while(i < n):\n",
    "            newNode = Node(arr[i])\n",
    "            if(i == 0):\n",
    "                start = newNode\n",
    "                temp = start\n",
    "            else:\n",
    "                temp.next = newNode\n",
    "                newNode.prev = temp\n",
    "                temp = temp.next\n",
    "            i += 1\n",
    "        self.head = start\n",
    "        return start\n",
    "\n",
    "    def printList(self):\n",
    "        temp = self.head\n",
    "        linked_list = \"\"\n",
    "        while(temp):\n",
    "            linked_list += (str(temp.data) + \" \")\n",
    "            temp = temp.next\n",
    "\n",
    "        print(linked_list)\n",
    "      \n",
    "\n",
    "arr = [1,2,3,4,5]\n",
    "\n",
    "llist = LinkedList()\n",
    "\n",
    "llist.createList(arr)\n",
    "\n",
    "llist.printList()"
   ]
  },
  {
   "cell_type": "markdown",
   "id": "bb20ed0a-32ab-49e7-8560-1ac3df9984f9",
   "metadata": {},
   "source": [
    "#### Insertion"
   ]
  },
  {
   "cell_type": "code",
   "execution_count": 5,
   "id": "69c97f73-cac8-4d89-babb-d65419712b84",
   "metadata": {},
   "outputs": [
    {
     "name": "stdout",
     "output_type": "stream",
     "text": [
      "1 2 3 4 5 5 \n"
     ]
    }
   ],
   "source": [
    "class Node:\n",
    "    def __init__(self, data):\n",
    "        self.data = data\n",
    "        self.prev = None\n",
    "        self.next = None\n",
    "\n",
    "\n",
    "class LinkedList:\n",
    "    def __init__(self):\n",
    "        self.head = None\n",
    "\n",
    "    def createList(self, arr):\n",
    "        start = self.head\n",
    "        n = len(arr)\n",
    "\n",
    "        temp = start\n",
    "        i = 0\n",
    "\n",
    "        while(i < n):\n",
    "            newNode = Node(arr[i])\n",
    "            if(i == 0):\n",
    "                start = newNode\n",
    "                temp = start\n",
    "            else:\n",
    "                temp.next = newNode\n",
    "                newNode.prev = temp\n",
    "                temp = temp.next\n",
    "            i += 1\n",
    "        self.head = start\n",
    "        return start\n",
    "\n",
    "    def printList(self):\n",
    "        temp = self.head\n",
    "        linked_list = \"\"\n",
    "        while(temp):\n",
    "            linked_list += (str(temp.data) + \" \")\n",
    "            temp = temp.next\n",
    "\n",
    "        print(linked_list)\n",
    "\n",
    "    def countList(self):\n",
    "        temp = self.head\n",
    "        count = 0\n",
    "        while(temp is not None):\n",
    "            temp = temp.next\n",
    "            count += 1\n",
    "        return count\n",
    "\n",
    "    # we will consider that the index begin at 1\n",
    "    def insertAtLocation(self, value, index):\n",
    "        temp = self.head\n",
    "\n",
    "        count = self.countList()\n",
    "\n",
    "        #index is 6, count is 5, valid \n",
    "        #index is 7, count is 5, \n",
    "        if(count+1<index):\n",
    "            return temp\n",
    "        \n",
    "        newNode = Node(value)\n",
    "\n",
    "        if(index == 1):\n",
    "            newNode.next = temp\n",
    "            temp.prev = newNode\n",
    "            self.head = newNode\n",
    "            return self.head\n",
    "        \n",
    "        if(index == count +1):\n",
    "            while(temp.next is not None):\n",
    "                temp = temp.next\n",
    "\n",
    "            temp.next = newNode\n",
    "            newNode.prev = temp \n",
    "            return self.head\n",
    "        \n",
    "        i = 1\n",
    "        while(i < index-1):\n",
    "            temp = temp.next\n",
    "            i+=1\n",
    "        \n",
    "        nodeAtTarget = temp.next\n",
    "\n",
    "        newNode.next = nodeAtTarget\n",
    "        nodeAtTarget.prev = newNode\n",
    "\n",
    "        temp.next = newNode\n",
    "        newNode.prev = temp\n",
    "\n",
    "        return self.head\n",
    "\n",
    "\n",
    "arr = [1, 2, 3, 4, 5]\n",
    "\n",
    "llist = LinkedList()\n",
    "\n",
    "llist.createList(arr)\n",
    "\n",
    "llist.insertAtLocation(5,6)\n",
    "\n",
    "llist.printList()"
   ]
  },
  {
   "cell_type": "markdown",
   "id": "d531396b-1d39-45b5-b307-f3b484dc0167",
   "metadata": {},
   "source": [
    "#### Deletion"
   ]
  },
  {
   "cell_type": "code",
   "execution_count": 6,
   "id": "0ccecada-ad5b-457d-bc7b-398acf4ebd8d",
   "metadata": {},
   "outputs": [
    {
     "name": "stdout",
     "output_type": "stream",
     "text": [
      "1 3 4 5 \n"
     ]
    }
   ],
   "source": [
    "\n",
    "\n",
    "# Node class\n",
    "\n",
    "\n",
    "class Node:\n",
    "\n",
    "    def __init__(self, data):\n",
    "        self.data = data\n",
    "        self.prev = None\n",
    "        self.next = None\n",
    "\n",
    "\n",
    "# Linked List class\n",
    "class LinkedList:\n",
    "\n",
    "    def __init__(self):\n",
    "        self.head = None\n",
    "\n",
    "    def createList(self, arr):\n",
    "        start = self.head\n",
    "        n = len(arr)\n",
    "        # Declare newNode and temporary pointer\n",
    "        temp = start\n",
    "        i = 0\n",
    "\n",
    "        # Iterate the loop until array length\n",
    "        while (i < n):\n",
    "\n",
    "            # Create new node\n",
    "            newNode = Node(arr[i])\n",
    "\n",
    "            if (i == 0):\n",
    "                start = newNode\n",
    "                newNode.prev = start\n",
    "                temp = start\n",
    "\n",
    "            else:\n",
    "                temp.next = newNode\n",
    "                newNode.prev = temp\n",
    "                temp = temp.next\n",
    "            i = i + 1\n",
    "        self.head = start\n",
    "        return start\n",
    "\n",
    "    def printList(self):\n",
    "        temp = self.head\n",
    "        linked_list = \"\"\n",
    "        while(temp):\n",
    "            linked_list += (str(temp.data) + \" \")\n",
    "            temp = temp.next\n",
    "        print(linked_list)\n",
    "\n",
    "    # Function to count nunmber of\n",
    "    # elements in the list\n",
    "\n",
    "    def countList(self):\n",
    "\n",
    "        # Declare temp pointer to\n",
    "        # traverse the list\n",
    "        temp = self.head\n",
    "\n",
    "        # Variable to store the count\n",
    "        count = 0\n",
    "\n",
    "        # Iterate the list and increment the count\n",
    "        while (temp is not None):\n",
    "            temp = temp.next\n",
    "            count = count + 1\n",
    "\n",
    "        return count\n",
    "\n",
    "    # we will consider that the index begin at 1\n",
    "    def deleteAtLocation(self, index):\n",
    "      temp = self.head\n",
    "\n",
    "      count = self.countList()\n",
    "\n",
    "      if(count < index):\n",
    "        return temp\n",
    "\n",
    "      if(index == 1):\n",
    "        temp = temp.next\n",
    "        self.head = temp\n",
    "        return self.head\n",
    "\n",
    "      if(count == index):\n",
    "        while(temp.next is not None and temp.next.next is not None):\n",
    "          temp = temp.next\n",
    "         # 1 => 2 => 3 => 4\n",
    "        temp.next = None\n",
    "        return self.head\n",
    "      \n",
    "\n",
    "      i = 1 \n",
    "      while(i<index-1):\n",
    "        temp = temp.next\n",
    "        i+=1\n",
    "      \n",
    "\n",
    "      prevNode = temp\n",
    "      nodeAtTarget = temp.next\n",
    "      nextNode = nodeAtTarget.next\n",
    "\n",
    "      # 1 => 2 => 3 => 4\n",
    "\n",
    "      nextNode.prev = prevNode\n",
    "      prevNode.next = nextNode\n",
    "\n",
    "      return self.head\n",
    "\n",
    "        \n",
    "# create an empty list\n",
    "\n",
    "arr = [1, 2, 3, 4, 5]\n",
    "llist = LinkedList()\n",
    "\n",
    "llist.createList(arr)\n",
    "\n",
    "\n",
    "llist.deleteAtLocation(2)\n",
    "\n",
    "# print(llist.head)\n",
    "llist.printList()"
   ]
  },
  {
   "cell_type": "markdown",
   "id": "3f8186ea-b8ef-48c2-ba81-158f29d356b5",
   "metadata": {
    "tags": []
   },
   "source": [
    "# Stack"
   ]
  },
  {
   "cell_type": "code",
   "execution_count": 93,
   "id": "498d733c-6660-4071-b108-b61019954a9d",
   "metadata": {},
   "outputs": [],
   "source": [
    "class MinStack:\n",
    "    def __init__(self):\n",
    "        self.st = []\n",
    "\n",
    "    def push(self, x: int) -> None:\n",
    "        curMin = self.getMin()\n",
    "        if curMin == None or curMin > x:\n",
    "            curMin = x\n",
    "        self.st.append((x, curMin))\n",
    "\n",
    "    def pop(self) -> None:\n",
    "        self.st.pop()\n",
    "\n",
    "    def isempty(self) -> int:\n",
    "        return self.st[-1][0] if self.st else None\n",
    "\n",
    "    def getMin(self) -> int:\n",
    "        return self.st[-1][1] if self.st else None"
   ]
  },
  {
   "cell_type": "code",
   "execution_count": 107,
   "id": "f9a11fad-239c-4a53-a16e-ce4fc53a6f1b",
   "metadata": {
    "tags": []
   },
   "outputs": [],
   "source": [
    "class stack:\n",
    "    def __init__(self):\n",
    "        self.st = []\n",
    "        \n",
    "    def push(self,x):\n",
    "        self.st.append(x)\n",
    "        \n",
    "    def pop(self):\n",
    "        if(len(self.st)>0):\n",
    "            self.st.pop()\n",
    "            \n",
    "    def isempty(self):\n",
    "        if(len(self.st) == 0):\n",
    "            return None\n",
    "        return self.st[-1]\n",
    "    \n",
    "    def getLen(self):\n",
    "        return len(self.st)\n",
    "           \n",
    "    "
   ]
  },
  {
   "cell_type": "code",
   "execution_count": 118,
   "id": "6b2bca55-e596-4641-96b6-69c761e256c7",
   "metadata": {
    "jupyter": {
     "source_hidden": true
    },
    "tags": []
   },
   "outputs": [
    {
     "name": "stdout",
     "output_type": "stream",
     "text": [
      "www.google.com\n",
      "www.apple.com\n",
      "www.yahoo.com\n"
     ]
    }
   ],
   "source": [
    "class stack:\n",
    "    \n",
    "    def __init__(self):\n",
    "        self.st = []\n",
    "        \n",
    "    def push(self, x):\n",
    "        self.st.append(x)\n",
    "    \n",
    "    def pop(self):\n",
    "        if self.st > 0:\n",
    "            self.st.pop()\n",
    "            \n",
    "    def isempty(self):\n",
    "        if len(self.st) == 0:\n",
    "            return None\n",
    "        return self.st[-1]\n",
    "    \n",
    "    def getlen(self):\n",
    "        return len(self.st)\n",
    "    \n",
    "    def printL(self):\n",
    "        for i in self.st:\n",
    "            print(i)\n",
    "\n",
    "ob = ''\n",
    "string = 'www.google.com'\n",
    "string2 = 'www.apple.com'\n",
    "string3 = 'www.yahoo.com'\n",
    "\n",
    "ob = stack()\n",
    "ob.push(string)\n",
    "ob.push(string2)\n",
    "ob.push(string3)\n",
    "\n",
    "ob.printL()"
   ]
  },
  {
   "cell_type": "code",
   "execution_count": 128,
   "id": "57f66280-e004-47c8-a8fd-98ced77b96fb",
   "metadata": {
    "tags": []
   },
   "outputs": [
    {
     "name": "stdout",
     "output_type": "stream",
     "text": [
      "www.google.com\n",
      "www.apple.com\n",
      "www.yahoo.com\n",
      "www.google.com\n",
      "www.apple.com\n"
     ]
    }
   ],
   "source": [
    "class stack:\n",
    "    \n",
    "    def __init__(self):\n",
    "        self.st = []\n",
    "        \n",
    "    def push(self, x):\n",
    "        self.st = self.st + [x]\n",
    "        \n",
    "    def pop(self):\n",
    "        if len(self.st) > 0:\n",
    "            self.st = self.st[:-1]\n",
    "            \n",
    "    def isempty(self):\n",
    "        if len(self.st) == 0:\n",
    "            return True\n",
    "        else:\n",
    "            return False\n",
    "        \n",
    "    def getLen(self):\n",
    "        return len(self.st)\n",
    "    \n",
    "    def printL(self):\n",
    "        for i in self.st:\n",
    "            print(i)\n",
    "            \n",
    "        \n",
    "ob = ''\n",
    "string = 'www.google.com'\n",
    "string2 = 'www.apple.com'\n",
    "string3 = 'www.yahoo.com'\n",
    "\n",
    "ob = stack()\n",
    "ob.push(string)\n",
    "ob.push(string2)\n",
    "ob.push(string3)\n",
    "\n",
    "ob.printL()\n",
    "ob.pop()\n",
    "ob.printL()"
   ]
  },
  {
   "cell_type": "markdown",
   "id": "a0fd1670-2e2a-465f-84b6-9c875b1d9688",
   "metadata": {},
   "source": [
    "# Queue"
   ]
  },
  {
   "cell_type": "code",
   "execution_count": 101,
   "id": "c20e5029-41bd-4525-a584-2f97ce574994",
   "metadata": {
    "tags": []
   },
   "outputs": [],
   "source": [
    "class QueueLine:\n",
    "    \n",
    "    def __init__(self):\n",
    "        self.q = []\n",
    "        \n",
    "    def enqueue(self, x):\n",
    "        self.q.append(x)\n",
    "    \n",
    "    def dequeue(self):\n",
    "        if(len(self.q) > 0):\n",
    "            self.q.pop(0)\n",
    "            \n",
    "    def front(self):\n",
    "        if(len(self.q) == 0):\n",
    "            return None\n",
    "        return self.q[0]\n",
    "    def printq(self):\n",
    "        l = []\n",
    "        for i in self.q:\n",
    "            l.append(i)\n",
    "        print(l)\n",
    "\n"
   ]
  },
  {
   "cell_type": "code",
   "execution_count": null,
   "id": "a2a65391-b669-42ae-a061-10621c70068c",
   "metadata": {},
   "outputs": [],
   "source": [
    "class queue:\n",
    "    def __init__(self):\n",
    "        self.q = []\n",
    "        \n",
    "    def enter(self, x):\n",
    "        self.q = self.q + [x]\n",
    "        \n",
    "    def exit(self):\n",
    "        self.q = self.q[1:]"
   ]
  },
  {
   "cell_type": "code",
   "execution_count": 135,
   "id": "f2a0fe5b-0596-43e1-988d-07f7846e59b4",
   "metadata": {},
   "outputs": [
    {
     "name": "stdout",
     "output_type": "stream",
     "text": [
      "None\n",
      "[1, 2, 3, 4, 5, 6, 7]\n"
     ]
    }
   ],
   "source": [
    "li = [1,2,3,4,5,6]\n",
    "\n"
   ]
  },
  {
   "cell_type": "code",
   "execution_count": null,
   "id": "e7807359-3082-45c7-baf3-d46061da1b77",
   "metadata": {},
   "outputs": [],
   "source": []
  }
 ],
 "metadata": {
  "kernelspec": {
   "display_name": "Python 3 (ipykernel)",
   "language": "python",
   "name": "python3"
  },
  "language_info": {
   "codemirror_mode": {
    "name": "ipython",
    "version": 3
   },
   "file_extension": ".py",
   "mimetype": "text/x-python",
   "name": "python",
   "nbconvert_exporter": "python",
   "pygments_lexer": "ipython3",
   "version": "3.9.11"
  }
 },
 "nbformat": 4,
 "nbformat_minor": 5
}
